{
 "cells": [
  {
   "cell_type": "markdown",
   "metadata": {},
   "source": [
    "# SYD DAT 8 Homework 2 - Visualisation and Regression\n",
    "\n",
    "## Homework - Due Friday 30th June\n",
    "\n",
    "#### Setup\n",
    "* Signup for an AWS account\n",
    "\n",
    "#### Communication\n",
    "* Imagine you are trying to explain to someone what Linear Regression is - but they have no programming/maths experience? How would you explain the overall process, what a p-value means and what R-Squared means?\n",
    "* Read the paper [Useful things to know about machine learning]( https://homes.cs.washington.edu/~pedrod/papers/cacm12.pdf). \n",
    "    * What have we covered so far from this paper? \n",
    "    * Explain sections 6-13 in your own words\n",
    "\n",
    "#### Machine Learning\n",
    "* Describe 3 ways we can select what features to use in a model\n",
    "* Complete the first 3 exercises from Chapter 3 of Introduction to Statistical Learning in Python\n",
    "\n",
    "#### Course Project\n",
    "* For the following setup a new github repository for your project and share it with Alasdair and Ian over Slack.\n",
    "* Load the data you have gathered for your project into Python and run some summary statistics over the data. Are there any interesting features of the data that jump out? (Include the code)\n",
    "* Draft/Sketch (or wireframe) some data visualisations that would be useful for you to explore your data set\n",
    "* Are there any regresion or clustering techniques you could use in your project? Write them down (with the corresponding scikit learn function) and what you think you would get out of it. Try it out if you get a chance.\n",
    "\n",
    "\n",
    "**Instructions: copy this file and append your name in the filename, e.g. Homework2_ian_hansel.ipynb.\n",
    "Then commit this in your local repository, push it to your github account and create a pull request so I can see your work. Remeber if you get stuck to look at the slides going over Fork, Clone, Commit, Push and Pull request.**"
   ]
  },
  {
   "cell_type": "markdown",
   "metadata": {
    "collapsed": true
   },
   "source": [
    "### signed up for both AWS and Google Cloud accounts\n"
   ]
  },
  {
   "cell_type": "markdown",
   "metadata": {},
   "source": [
    "### Communication¶###\n",
    "Imagine you are trying to explain to someone what Linear Regression is - but they have no programming/maths experience? How would you explain the overall process, what a p-value means and what R-Squared means?\n",
    "\n",
    "#### LINEAR REGRESSION\n",
    "- Linear regression is a commonly used predictive analysis. It takes into account two things: 1. Can a set of predictor factors/variables do a suitable job in giving an accurate outcome 2. Of these factors/variables which of them has the most weight on the outcome\n",
    "\n",
    "- In the case of the Chicago housing dataset we used factors such as bathrooms, bedroom count, square feet, school district to try and and come up with an accurate method of predicting the housing price.\n",
    "\n",
    "- p-values this is a way of telling us the significance each of the factors/variables had on our predictive process. For example, we may have found that in the case of predicting house prices lot size had far greater impact than the number of bath rooms. If a variable/factor has a low P-value <0.05 it is deemed to be a meaningful addition to our regression model.\n",
    "\n",
    "- r-squared indicates how close the data is to the fitted regresion line\n",
    "\n",
    "\n",
    "\n",
    "Read the paper Useful things to know about machine learning.\n",
    "What have we covered so far from this paper?\n",
    "Explain sections 6-13 in your own words\n",
    "\n",
    "- Bias\n",
    "- Variance\n",
    "- Overfitting\n",
    "- Cross Validation\n",
    "- Regulatization\n",
    "- Dimensionality\n",
    "- Reduction\n",
    "- Training/test datasets\n",
    "- Machine Learning Methods\n",
    "- Classificaiton\n",
    "\n",
    "\n",
    "\n",
    "\n",
    "\n",
    "\n",
    "### Machine Learning\n",
    "Describe 3 ways we can select what features to use in a model\n",
    "- Subset selection - This approach involves identifying a subset of the p predictors that we believe will be the strongest predictors\n",
    "- Stepwise selection - Smaller than the subset selection in terms of predictors. It works by adding a predictor one at a timeor if we are refering to backwards stepwise having them all and then removing one at a time, \n",
    "- \" The best subset, forward stepwise and backward stepwise selection approaches generally give smiliar but not identical models, each of which contains a unique arrangement ( or all ) subset of p predictors\" Intro to Stats. Learning pg 210\n",
    "So the combination of all three \"Hybrid Model\" involves forward & backward stepwise selection in which variables are added to the model sequnetially and they are removed if there is no longer any improvement in the model fit. "
   ]
  },
  {
   "cell_type": "markdown",
   "metadata": {
    "collapsed": true
   },
   "source": [
    "Q1 - The high p-value of newspaper (0.8599) indicates the null hypothesis is true for newspapers whilst the the low p values of of TV and Radio suggest it is false. So we can reject the null hypothesis and conclude that TV and Radio have a positive impact on sales\n",
    "\n",
    "Q2 - The difference between the two is the output - Qualitative or Quantitative.\n",
    "Qualitative refers to a categorical measurement of the data and not expressed as a number\n",
    "Quantitative refers to a number output\n",
    "\n",
    "KNN Classifier is the Qualitative\n",
    "KNN Regression is the Quantitative \n",
    "\n",
    "Q3 - if the male gpa is >= 3.5 then the earning potential increases regardless of the IQ score. I used a baseline GPA of zero to test using the following :\n",
    "\n",
    "=50+(3.6*20)+(0*0.07)+(35*0)+(0.01*0*3.6)\n",
    "\n",
    "Therefore - iii is true\n",
    "\n",
    "B- -50+(4*20)+(110*0.07)+(35*1)+(0.01*110*4)+(-10*4)  FOR FEMALE 137\n",
    "   -50+(4*20)+(110*0.07)+(35*0)+(0.01*110*4)+(-10*4)  FOR MALE 142\n",
    "   \n",
    "C- False - Need to test the p value to determine how significant they are"
   ]
  },
  {
   "cell_type": "code",
   "execution_count": null,
   "metadata": {
    "collapsed": true
   },
   "outputs": [],
   "source": []
  }
 ],
 "metadata": {
  "kernelspec": {
   "display_name": "Python 3",
   "language": "python",
   "name": "python3"
  },
  "language_info": {
   "codemirror_mode": {
    "name": "ipython",
    "version": 3
   },
   "file_extension": ".py",
   "mimetype": "text/x-python",
   "name": "python",
   "nbconvert_exporter": "python",
   "pygments_lexer": "ipython3",
   "version": "3.6.0"
  }
 },
 "nbformat": 4,
 "nbformat_minor": 0
}
