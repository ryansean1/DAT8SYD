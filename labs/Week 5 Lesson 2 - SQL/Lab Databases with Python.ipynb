{
 "cells": [
  {
   "cell_type": "markdown",
   "metadata": {},
   "source": [
    "# Data Science Part Time Course\n",
    "\n",
    "## Week 5 - Lesson 2 - Lab: Databases with Python\n",
    "\n",
    "In this Lab the goal is connect to a database (created form a local file), read the data into Python and interact with it."
   ]
  },
  {
   "cell_type": "markdown",
   "metadata": {},
   "source": [
    "## 1. Data import\n",
    "\n",
    "Connect to the file 'assets/datasets/enron.db' using one of these methods:\n",
    "\n",
    "- sqlite3 python package\n",
    "- pandas.read_sql\n",
    "- SQLite Manager Firefox extension\n",
    "\n",
    "Take a look at the database and query the master table. How many Tables are there in the db?\n",
    "\n",
    "> Answer:\n",
    "There are 3 tables:\n",
    "- MessageBase\n",
    "- RecipientBase\n",
    "- EmployeeBase"
   ]
  },
  {
   "cell_type": "code",
   "execution_count": 2,
   "metadata": {
    "collapsed": false
   },
   "outputs": [
    {
     "data": {
      "text/plain": [
       "[('MessageBase',), ('RecipientBase',), ('EmployeeBase',)]"
      ]
     },
     "execution_count": 2,
     "metadata": {},
     "output_type": "execute_result"
    }
   ],
   "source": [
    "import sqlite3\n",
    "conn = sqlite3.connect('enron.db') \n",
    "c = conn.cursor()\n",
    "c.execute(\"SELECT name FROM sqlite_master WHERE type='table';\").fetchall()"
   ]
  },
  {
   "cell_type": "markdown",
   "metadata": {},
   "source": [
    "Query the `sqlite_master` table to retrieve the **schema** of the `EmployeeBase` table.\n",
    "\n",
    "1. What fields are there?\n",
    "1. What's the type of each of them?"
   ]
  },
  {
   "cell_type": "code",
<<<<<<< HEAD
   "execution_count": 3,
=======
   "execution_count": 2,
>>>>>>> upstream/master
   "metadata": {
    "collapsed": false
   },
   "outputs": [
    {
     "name": "stdout",
     "output_type": "stream",
     "text": [
      "CREATE TABLE MessageBase (\n",
      "    mid INTEGER,\n",
      "    filename TEXT,\n",
      "    unix_time INTEGER,\n",
      "    subject TEXT,\n",
      "    from_eid INTEGER,\n",
      "    \n",
      "    PRIMARY KEY(mid ASC),\n",
      "    FOREIGN KEY(from_eid) REFERENCES Employee(eid)\n",
      ")\n",
      "CREATE TABLE RecipientBase (\n",
      "    mid INTEGER,\n",
      "    rno INTEGER,\n",
      "    to_eid INTEGER,\n",
      "    \n",
      "    PRIMARY KEY(mid ASC, rno ASC)\n",
      "    FOREIGN KEY(mid) REFERENCES Message(mid)\n",
      "    FOREIGN KEY(to_eid) REFERENCES Employee(eid)\n",
      ")\n",
      "CREATE TABLE EmployeeBase (\n",
      "                  [eid] INTEGER,\n",
      "  [name] TEXT,\n",
      "  [department] TEXT,\n",
      "  [longdepartment] TEXT,\n",
      "  [title] TEXT,\n",
      "  [gender] TEXT,\n",
      "  [seniority] TEXT\n",
      "                  \n",
      "                  )\n"
     ]
    }
   ],
   "source": [
    "fields = c.execute(\"SELECT sql from sqlite_master WHERE type='table' and name='MessageBase';\").fetchall()\n",
    "print (''.join(fields[0]))\n",
    "\n",
    "fields = c.execute(\"SELECT sql from sqlite_master WHERE type='table' and name='RecipientBase';\").fetchall()\n",
    "print (''.join(fields[0]))\n",
    "\n",
    "fields = c.execute(\"SELECT sql from sqlite_master WHERE type='table' and name='EmployeeBase';\").fetchall()\n",
    "print (''.join(fields[0]))"
   ]
  },
  {
   "cell_type": "markdown",
   "metadata": {},
   "source": [
    "1. Print the first 5 rows of EmployeeBase table\n",
    "1. Print the first 5 rows of MessageBase table\n",
    "1. Print the first 5 rows of RecipientBase table\n",
    "\n",
    "**Hint**  use `SELECT` and `LIMIT`."
   ]
  },
  {
   "cell_type": "code",
   "execution_count": 4,
   "metadata": {
    "collapsed": false
   },
   "outputs": [
    {
     "name": "stdout",
     "output_type": "stream",
     "text": [
      "(1, 'John Arnold', 'Forestry', 'ENA Gas Financial', 'VP Trading', 'Male', 'Senior')\n",
      "(2, 'Harry Arora', 'Forestry', 'ENA East Power', 'VP Trading', 'Male', 'Senior')\n",
      "(3, 'Robert Badeer', 'Forestry', 'ENA West Power', 'Mgr Trading', 'Male', 'Junior')\n",
      "(4, 'Susan Bailey', 'Legal', 'ENA Legal', 'Specialist Legal', 'Female', 'Junior')\n",
      "(5, 'Eric Bass', 'Forestry', 'ENA Gas Texas', 'Trader', 'Male', 'Junior')\n"
     ]
    }
   ],
   "source": [
    "results = c.execute(\"SELECT * FROM EmployeeBase LIMIT 5;\").fetchall()\n",
    "for row in results:\n",
    "    print (row)"
   ]
  },
  {
   "cell_type": "code",
   "execution_count": 11,
   "metadata": {
    "collapsed": false
   },
   "outputs": [
    {
     "name": "stdout",
     "output_type": "stream",
     "text": [
      "(1, 'taylor-m/sent/11', 910930020, 'Cd$ CME letter', 138)\n",
      "(2, 'taylor-m/sent/17', 911459940, 'Indemnification', 138)\n",
      "(3, 'taylor-m/sent/18', 911463840, 'Re: Indemnification', 138)\n",
      "(4, 'taylor-m/sent/23', 911874180, 'Re: Coral Energy, L.P.', 138)\n",
      "(5, 'taylor-m/sent/27', 912396120, 'Bankruptcy Code revisions', 138)\n"
     ]
    }
   ],
   "source": [
    "results = c.execute(\"SELECT * FROM MessageBase LIMIT 5;\").fetchall()\n",
    "for row in results:\n",
    "    print (row)"
   ]
  },
  {
   "cell_type": "code",
   "execution_count": 7,
   "metadata": {
    "collapsed": false,
    "scrolled": true
   },
   "outputs": [
    {
     "name": "stdout",
     "output_type": "stream",
     "text": [
      "(1, 1, 59)\n",
      "(2, 1, 15)\n",
      "(3, 1, 15)\n",
      "(4, 1, 109)\n",
      "(4, 2, 49)\n",
      "(4, 3, 120)\n",
      "(4, 4, 59)\n",
      "(5, 1, 45)\n",
      "(5, 2, 53)\n",
      "(6, 1, 113)\n"
     ]
    }
   ],
   "source": [
    "results = c.execute(\"SELECT * FROM RecipientBase LIMIT 10;\").fetchall()\n",
    "for row in results:\n",
    "    print (row)\n",
    "    \n",
    "# The first field is message id, the second is recipient number, and the third is the id of the recipient.\n",
    "# mid, rno, to_eid"
   ]
  },
  {
   "cell_type": "markdown",
   "metadata": {},
   "source": [
    "Now try other SQL statements on the local database, such as SELECT .... FROM ... WHERE ....\n",
    "\n",
    "For example, print the records of EmployeeBase where the Gender is male "
   ]
  },
  {
   "cell_type": "code",
   "execution_count": 47,
   "metadata": {
    "collapsed": false
   },
   "outputs": [
    {
     "name": "stdout",
     "output_type": "stream",
     "text": [
      "(1, 'John Arnold', 'Forestry', 'ENA Gas Financial', 'VP Trading', 'Male', 'Senior')\n",
      "(2, 'Harry Arora', 'Forestry', 'ENA East Power', 'VP Trading', 'Male', 'Senior')\n",
      "(8, 'Robert Benson', 'Forestry', 'ENA East Power', 'Dir Trading', 'Male', 'Senior')\n",
      "(11, 'Rick Buy', 'Forestry', 'Enron', 'VP & CRO', 'Male', 'Senior')\n",
      "(18, 'Sean Crandall', 'Forestry', 'ENA West Power', 'Dir Trading', 'Male', 'Senior')\n",
      "(30, 'Frank Ermis', 'Forestry', 'ENA Gas West', 'Dir Trading', 'Male', 'Senior')\n",
      "(31, 'Daren J. Farmer', 'Forestry', 'ENA Gas Texas', 'Dir Trading', 'Male', 'Senior')\n",
      "(33, 'John M. Forney', 'Forestry', 'ENA East Power', 'Dir Trading', 'Male', 'Senior')\n",
      "(40, 'Doug Gilbert-Smith', 'Forestry', 'ENA East Power', 'Dir Trading', 'Male', 'Senior')\n",
      "(43, 'Mike Grigsby', 'Forestry', 'ENA Gas West', 'VP Trading', 'Male', 'Senior')\n",
      "(50, 'Scott Hendrickson', 'Forestry', 'ENA Gas East', 'Dir Trading', 'Male', 'Senior')\n",
      "(54, 'John Hodge', 'Forestry', 'ENA Gas East', 'Dir Trading', 'Male', 'Senior')\n",
      "(55, 'Keith Holst', 'Forestry', 'ENA Gas West', 'Dir Trading', 'Male', 'Senior')\n",
      "(70, 'Andrew H. Lewis', 'Forestry', 'ENA Gas Central', 'Dir Trading', 'Male', 'Senior')\n",
      "(75, 'Paul T. Lucci', 'Forestry', 'ENA Gas West', 'Dir Trading', 'Male', 'Senior')\n",
      "(76, 'Mike Maggi', 'Forestry', 'ENA Gas Financial', 'Dir Trading', 'Male', 'Senior')\n",
      "(78, 'Thomas A. Martin', 'Forestry', 'ENA Gas Texas', 'VP Trading', 'Male', 'Senior')\n",
      "(79, 'Larry May', 'Forestry', 'ENA Gas Financial', 'Dir Trading', 'Male', 'Senior')\n",
      "(83, 'Brad McKay', 'Forestry', 'ENA Gas East', 'Dir Trading', 'Male', 'Senior')\n",
      "(84, 'Jonathan McKay', 'Forestry', 'ENA Gas East', 'Dir Trading', 'Male', 'Senior')\n",
      "(89, 'Matt Motley', 'Forestry', 'ENA West Power Real Time', 'Dir Trading', 'Male', 'Senior')\n",
      "(90, 'Scott Neal', 'Forestry', 'ENA Gas East', 'VP Trading', 'Male', 'Senior')\n",
      "(98, 'Kevin M. Presto', 'Forestry', 'ENA East Power', 'VP Trading', 'Male', 'Senior')\n",
      "(123, 'Hunter S. Shively', 'Forestry', 'ENA Gas Central', 'VP Trading', 'Male', 'Senior')\n",
      "(128, 'Steven P. South', 'Forestry', 'ENA Gas West', 'Dir Trading', 'Male', 'Senior')\n",
      "(134, 'Geoff Storey', 'Forestry', 'ENA Gas Central', 'Dir Trading', 'Male', 'Senior')\n",
      "(135, 'Fletcher J. Sturm', 'Forestry', 'ENA East Power', 'VP Trading', 'Male', 'Senior')\n",
      "(136, 'Mike Swerzbin', 'Forestry', 'ENA West Power', 'VP Trading', 'Male', 'Senior')\n",
      "(143, 'Barry Tycholiz', 'Forestry', 'ENA Gas West', 'VP Trading', 'Male', 'Senior')\n",
      "(149, 'Mark Whitt', 'Forestry', 'ENA Gas West', 'VP Trading', 'Male', 'Senior')\n",
      "(156, 'Phillip K. Allen', 'Forestry', 'ENA Gas West', 'Mng Dir Trading', 'Male', 'Senior')\n"
     ]
    }
   ],
   "source": [
    "import sqlite3\n",
    "results = c.execute(\"SELECT * FROM EmployeeBase WHERE department IN ('Forestry') AND Gender = 'Male' AND seniority = 'Senior';\").fetchall()\n",
    "for row in results:\n",
    "    print(row)"
   ]
  },
  {
   "cell_type": "markdown",
   "metadata": {},
   "source": [
    "#### Import each of the 3 tables to a Pandas Dataframes"
   ]
  },
  {
   "cell_type": "code",
   "execution_count": 48,
   "metadata": {
    "collapsed": true
   },
   "outputs": [],
   "source": [
    "import pandas as pd\n",
    "employees = pd.read_sql(\"SELECT * FROM EmployeeBase;\", conn)\n",
    "recipients = pd.read_sql(\"SELECT * FROM RecipientBase;\", conn)\n",
    "messages = pd.read_sql(\"SELECT * FROM MessageBase;\", conn)"
   ]
  },
  {
   "cell_type": "code",
   "execution_count": 14,
   "metadata": {
    "collapsed": false
   },
   "outputs": [
    {
     "data": {
      "text/html": [
       "<div>\n",
       "<table border=\"1\" class=\"dataframe\">\n",
       "  <thead>\n",
       "    <tr style=\"text-align: right;\">\n",
       "      <th></th>\n",
       "      <th>mid</th>\n",
       "      <th>rno</th>\n",
       "      <th>to_eid</th>\n",
       "    </tr>\n",
       "  </thead>\n",
       "  <tbody>\n",
       "    <tr>\n",
       "      <th>0</th>\n",
       "      <td>1</td>\n",
       "      <td>1</td>\n",
       "      <td>59</td>\n",
       "    </tr>\n",
       "    <tr>\n",
       "      <th>1</th>\n",
       "      <td>2</td>\n",
       "      <td>1</td>\n",
       "      <td>15</td>\n",
       "    </tr>\n",
       "    <tr>\n",
       "      <th>2</th>\n",
       "      <td>3</td>\n",
       "      <td>1</td>\n",
       "      <td>15</td>\n",
       "    </tr>\n",
       "    <tr>\n",
       "      <th>3</th>\n",
       "      <td>4</td>\n",
       "      <td>1</td>\n",
       "      <td>109</td>\n",
       "    </tr>\n",
       "    <tr>\n",
       "      <th>4</th>\n",
       "      <td>4</td>\n",
       "      <td>2</td>\n",
       "      <td>49</td>\n",
       "    </tr>\n",
       "    <tr>\n",
       "      <th>5</th>\n",
       "      <td>4</td>\n",
       "      <td>3</td>\n",
       "      <td>120</td>\n",
       "    </tr>\n",
       "    <tr>\n",
       "      <th>6</th>\n",
       "      <td>4</td>\n",
       "      <td>4</td>\n",
       "      <td>59</td>\n",
       "    </tr>\n",
       "    <tr>\n",
       "      <th>7</th>\n",
       "      <td>5</td>\n",
       "      <td>1</td>\n",
       "      <td>45</td>\n",
       "    </tr>\n",
       "    <tr>\n",
       "      <th>8</th>\n",
       "      <td>5</td>\n",
       "      <td>2</td>\n",
       "      <td>53</td>\n",
       "    </tr>\n",
       "    <tr>\n",
       "      <th>9</th>\n",
       "      <td>6</td>\n",
       "      <td>1</td>\n",
       "      <td>113</td>\n",
       "    </tr>\n",
       "  </tbody>\n",
       "</table>\n",
       "</div>"
      ],
      "text/plain": [
       "   mid  rno  to_eid\n",
       "0    1    1      59\n",
       "1    2    1      15\n",
       "2    3    1      15\n",
       "3    4    1     109\n",
       "4    4    2      49\n",
       "5    4    3     120\n",
       "6    4    4      59\n",
       "7    5    1      45\n",
       "8    5    2      53\n",
       "9    6    1     113"
      ]
     },
     "execution_count": 14,
     "metadata": {},
     "output_type": "execute_result"
    }
   ],
   "source": [
    "recipients.head(10)"
   ]
  },
  {
   "cell_type": "code",
   "execution_count": 49,
   "metadata": {
    "collapsed": false
   },
   "outputs": [
    {
     "data": {
      "text/html": [
       "<div>\n",
       "<table border=\"1\" class=\"dataframe\">\n",
       "  <thead>\n",
       "    <tr style=\"text-align: right;\">\n",
       "      <th></th>\n",
       "      <th>eid</th>\n",
       "      <th>name</th>\n",
       "      <th>department</th>\n",
       "      <th>longdepartment</th>\n",
       "      <th>title</th>\n",
       "      <th>gender</th>\n",
       "      <th>seniority</th>\n",
       "    </tr>\n",
       "  </thead>\n",
       "  <tbody>\n",
       "    <tr>\n",
       "      <th>141</th>\n",
       "      <td>142</td>\n",
       "      <td>Judy Townsend</td>\n",
       "      <td>Forestry</td>\n",
       "      <td>ENA Gas East</td>\n",
       "      <td>Mgr Trading</td>\n",
       "      <td>Female</td>\n",
       "      <td>Junior</td>\n",
       "    </tr>\n",
       "    <tr>\n",
       "      <th>142</th>\n",
       "      <td>143</td>\n",
       "      <td>Barry Tycholiz</td>\n",
       "      <td>Forestry</td>\n",
       "      <td>ENA Gas West</td>\n",
       "      <td>VP Trading</td>\n",
       "      <td>Male</td>\n",
       "      <td>Senior</td>\n",
       "    </tr>\n",
       "    <tr>\n",
       "      <th>143</th>\n",
       "      <td>144</td>\n",
       "      <td>Kim S. Ward</td>\n",
       "      <td>Forestry</td>\n",
       "      <td>ENA Gas West</td>\n",
       "      <td>Mgr Trading</td>\n",
       "      <td>Female</td>\n",
       "      <td>Junior</td>\n",
       "    </tr>\n",
       "    <tr>\n",
       "      <th>144</th>\n",
       "      <td>145</td>\n",
       "      <td>Kimberly Watson</td>\n",
       "      <td>Other</td>\n",
       "      <td>ETS</td>\n",
       "      <td>Director</td>\n",
       "      <td>Female</td>\n",
       "      <td>Senior</td>\n",
       "    </tr>\n",
       "    <tr>\n",
       "      <th>145</th>\n",
       "      <td>146</td>\n",
       "      <td>V Charles Weldon</td>\n",
       "      <td>Other</td>\n",
       "      <td>ENA Gas Texas</td>\n",
       "      <td>Associate</td>\n",
       "      <td>Male</td>\n",
       "      <td>Junior</td>\n",
       "    </tr>\n",
       "    <tr>\n",
       "      <th>146</th>\n",
       "      <td>147</td>\n",
       "      <td>Greg Whalley</td>\n",
       "      <td>Other</td>\n",
       "      <td>EWS</td>\n",
       "      <td>President &amp; CEO</td>\n",
       "      <td>Male</td>\n",
       "      <td>Senior</td>\n",
       "    </tr>\n",
       "    <tr>\n",
       "      <th>147</th>\n",
       "      <td>148</td>\n",
       "      <td>Stacey W. White</td>\n",
       "      <td>Other</td>\n",
       "      <td>Energy Operations</td>\n",
       "      <td>Director</td>\n",
       "      <td>Female</td>\n",
       "      <td>Senior</td>\n",
       "    </tr>\n",
       "    <tr>\n",
       "      <th>148</th>\n",
       "      <td>149</td>\n",
       "      <td>Mark Whitt</td>\n",
       "      <td>Forestry</td>\n",
       "      <td>ENA Gas West</td>\n",
       "      <td>VP Trading</td>\n",
       "      <td>Male</td>\n",
       "      <td>Senior</td>\n",
       "    </tr>\n",
       "    <tr>\n",
       "      <th>149</th>\n",
       "      <td>150</td>\n",
       "      <td>Jason Williams</td>\n",
       "      <td>Other</td>\n",
       "      <td>ENA Gas Central</td>\n",
       "      <td>Specialist</td>\n",
       "      <td>Male</td>\n",
       "      <td>Junior</td>\n",
       "    </tr>\n",
       "    <tr>\n",
       "      <th>150</th>\n",
       "      <td>151</td>\n",
       "      <td>Bill Williams III</td>\n",
       "      <td>Other</td>\n",
       "      <td>ENA West Power Real Time</td>\n",
       "      <td>Analyst</td>\n",
       "      <td>Male</td>\n",
       "      <td>Junior</td>\n",
       "    </tr>\n",
       "    <tr>\n",
       "      <th>151</th>\n",
       "      <td>152</td>\n",
       "      <td>Jason Wolfe</td>\n",
       "      <td>Other</td>\n",
       "      <td>ENA Gas West</td>\n",
       "      <td>Analyst</td>\n",
       "      <td>Male</td>\n",
       "      <td>Junior</td>\n",
       "    </tr>\n",
       "    <tr>\n",
       "      <th>152</th>\n",
       "      <td>153</td>\n",
       "      <td>Paul Y’Barbo</td>\n",
       "      <td>Other</td>\n",
       "      <td>ETS</td>\n",
       "      <td>Director</td>\n",
       "      <td>Male</td>\n",
       "      <td>Senior</td>\n",
       "    </tr>\n",
       "    <tr>\n",
       "      <th>153</th>\n",
       "      <td>154</td>\n",
       "      <td>Andy Zipper</td>\n",
       "      <td>Other</td>\n",
       "      <td>EWS</td>\n",
       "      <td>VP of Enron Online</td>\n",
       "      <td>Male</td>\n",
       "      <td>Senior</td>\n",
       "    </tr>\n",
       "    <tr>\n",
       "      <th>154</th>\n",
       "      <td>155</td>\n",
       "      <td>John Zufferli</td>\n",
       "      <td>Other</td>\n",
       "      <td>EWS</td>\n",
       "      <td>VP of Enron Canada</td>\n",
       "      <td>Male</td>\n",
       "      <td>Senior</td>\n",
       "    </tr>\n",
       "    <tr>\n",
       "      <th>155</th>\n",
       "      <td>156</td>\n",
       "      <td>Phillip K. Allen</td>\n",
       "      <td>Forestry</td>\n",
       "      <td>ENA Gas West</td>\n",
       "      <td>Mng Dir Trading</td>\n",
       "      <td>Male</td>\n",
       "      <td>Senior</td>\n",
       "    </tr>\n",
       "  </tbody>\n",
       "</table>\n",
       "</div>"
      ],
      "text/plain": [
       "     eid               name department            longdepartment  \\\n",
       "141  142      Judy Townsend   Forestry              ENA Gas East   \n",
       "142  143     Barry Tycholiz   Forestry              ENA Gas West   \n",
       "143  144        Kim S. Ward   Forestry              ENA Gas West   \n",
       "144  145    Kimberly Watson      Other                       ETS   \n",
       "145  146   V Charles Weldon      Other             ENA Gas Texas   \n",
       "146  147       Greg Whalley      Other                       EWS   \n",
       "147  148    Stacey W. White      Other         Energy Operations   \n",
       "148  149         Mark Whitt   Forestry              ENA Gas West   \n",
       "149  150     Jason Williams      Other           ENA Gas Central   \n",
       "150  151  Bill Williams III      Other  ENA West Power Real Time   \n",
       "151  152        Jason Wolfe      Other              ENA Gas West   \n",
       "152  153       Paul Y’Barbo      Other                       ETS   \n",
       "153  154        Andy Zipper      Other                       EWS   \n",
       "154  155      John Zufferli      Other                       EWS   \n",
       "155  156   Phillip K. Allen   Forestry              ENA Gas West   \n",
       "\n",
       "                  title  gender seniority  \n",
       "141         Mgr Trading  Female    Junior  \n",
       "142          VP Trading    Male    Senior  \n",
       "143         Mgr Trading  Female    Junior  \n",
       "144            Director  Female    Senior  \n",
       "145           Associate    Male    Junior  \n",
       "146     President & CEO    Male    Senior  \n",
       "147            Director  Female    Senior  \n",
       "148          VP Trading    Male    Senior  \n",
       "149          Specialist    Male    Junior  \n",
       "150             Analyst    Male    Junior  \n",
       "151             Analyst    Male    Junior  \n",
       "152            Director    Male    Senior  \n",
       "153  VP of Enron Online    Male    Senior  \n",
       "154  VP of Enron Canada    Male    Senior  \n",
       "155     Mng Dir Trading    Male    Senior  "
      ]
     },
     "execution_count": 49,
     "metadata": {},
     "output_type": "execute_result"
    }
   ],
   "source": [
    "employees.tail(15)"
   ]
  },
  {
   "cell_type": "markdown",
   "metadata": {},
   "source": [
    "## 2. Data Exploration\n",
    "\n",
    "Use the 3 dataframes to answer the following questions:\n",
    "\n",
    "1. How many employees are there in the company?\n",
    "- How many messages are there in the database?\n",
    "- Some messages are sent to more than one recipient. Group the messages by message_id and count the number of recepients. Then look at the distribution of recepient numbers.\n",
    "    - How many messages have only one recepient?\n",
    "    - How many messages have >= 5 recepients?\n",
    "    - What's the highest number of recepients?\n",
    "    - Who sent the message with the highest number of recepients?\n",
    "- Plot the distribution of recepient numbers using Bokeh."
   ]
  },
  {
   "cell_type": "markdown",
   "metadata": {},
   "source": [
    "* How many employees are there in the company? - 156"
   ]
  },
  {
   "cell_type": "code",
   "execution_count": 53,
   "metadata": {
    "collapsed": false
   },
   "outputs": [
    {
     "data": {
      "text/html": [
       "<div>\n",
       "<table border=\"1\" class=\"dataframe\">\n",
       "  <thead>\n",
       "    <tr style=\"text-align: right;\">\n",
       "      <th></th>\n",
       "      <th>eid</th>\n",
       "    </tr>\n",
       "  </thead>\n",
       "  <tbody>\n",
       "    <tr>\n",
       "      <th>count</th>\n",
       "      <td>156.000000</td>\n",
       "    </tr>\n",
       "    <tr>\n",
       "      <th>mean</th>\n",
       "      <td>78.500000</td>\n",
       "    </tr>\n",
       "    <tr>\n",
       "      <th>std</th>\n",
       "      <td>45.177428</td>\n",
       "    </tr>\n",
       "    <tr>\n",
       "      <th>min</th>\n",
       "      <td>1.000000</td>\n",
       "    </tr>\n",
       "    <tr>\n",
       "      <th>25%</th>\n",
       "      <td>39.750000</td>\n",
       "    </tr>\n",
       "    <tr>\n",
       "      <th>50%</th>\n",
       "      <td>78.500000</td>\n",
       "    </tr>\n",
       "    <tr>\n",
       "      <th>75%</th>\n",
       "      <td>117.250000</td>\n",
       "    </tr>\n",
       "    <tr>\n",
       "      <th>max</th>\n",
       "      <td>156.000000</td>\n",
       "    </tr>\n",
       "  </tbody>\n",
       "</table>\n",
       "</div>"
      ],
      "text/plain": [
       "              eid\n",
       "count  156.000000\n",
       "mean    78.500000\n",
       "std     45.177428\n",
       "min      1.000000\n",
       "25%     39.750000\n",
       "50%     78.500000\n",
       "75%    117.250000\n",
       "max    156.000000"
      ]
     },
     "execution_count": 53,
     "metadata": {},
     "output_type": "execute_result"
    }
   ],
   "source": [
    "employees.describe()"
   ]
  },
  {
   "cell_type": "code",
   "execution_count": 54,
   "metadata": {
    "collapsed": false
   },
   "outputs": [
    {
     "data": {
      "text/html": [
       "<div>\n",
       "<table border=\"1\" class=\"dataframe\">\n",
       "  <thead>\n",
       "    <tr style=\"text-align: right;\">\n",
       "      <th></th>\n",
       "      <th>mid</th>\n",
       "      <th>unix_time</th>\n",
       "      <th>from_eid</th>\n",
       "    </tr>\n",
       "  </thead>\n",
       "  <tbody>\n",
       "    <tr>\n",
       "      <th>count</th>\n",
       "      <td>21635.000000</td>\n",
       "      <td>2.163500e+04</td>\n",
       "      <td>21635.000000</td>\n",
       "    </tr>\n",
       "    <tr>\n",
       "      <th>mean</th>\n",
       "      <td>10818.000000</td>\n",
       "      <td>9.853194e+08</td>\n",
       "      <td>78.820800</td>\n",
       "    </tr>\n",
       "    <tr>\n",
       "      <th>std</th>\n",
       "      <td>6245.630873</td>\n",
       "      <td>1.972066e+07</td>\n",
       "      <td>45.203487</td>\n",
       "    </tr>\n",
       "    <tr>\n",
       "      <th>min</th>\n",
       "      <td>1.000000</td>\n",
       "      <td>9.109300e+08</td>\n",
       "      <td>1.000000</td>\n",
       "    </tr>\n",
       "    <tr>\n",
       "      <th>25%</th>\n",
       "      <td>5409.500000</td>\n",
       "      <td>9.722714e+08</td>\n",
       "      <td>42.000000</td>\n",
       "    </tr>\n",
       "    <tr>\n",
       "      <th>50%</th>\n",
       "      <td>10818.000000</td>\n",
       "      <td>9.870878e+08</td>\n",
       "      <td>72.000000</td>\n",
       "    </tr>\n",
       "    <tr>\n",
       "      <th>75%</th>\n",
       "      <td>16226.500000</td>\n",
       "      <td>1.002635e+09</td>\n",
       "      <td>120.000000</td>\n",
       "    </tr>\n",
       "    <tr>\n",
       "      <th>max</th>\n",
       "      <td>21635.000000</td>\n",
       "      <td>1.024667e+09</td>\n",
       "      <td>156.000000</td>\n",
       "    </tr>\n",
       "  </tbody>\n",
       "</table>\n",
       "</div>"
      ],
      "text/plain": [
       "                mid     unix_time      from_eid\n",
       "count  21635.000000  2.163500e+04  21635.000000\n",
       "mean   10818.000000  9.853194e+08     78.820800\n",
       "std     6245.630873  1.972066e+07     45.203487\n",
       "min        1.000000  9.109300e+08      1.000000\n",
       "25%     5409.500000  9.722714e+08     42.000000\n",
       "50%    10818.000000  9.870878e+08     72.000000\n",
       "75%    16226.500000  1.002635e+09    120.000000\n",
       "max    21635.000000  1.024667e+09    156.000000"
      ]
     },
     "execution_count": 54,
     "metadata": {},
     "output_type": "execute_result"
    }
   ],
   "source": [
    "messages.describe()"
   ]
  },
  {
   "cell_type": "code",
   "execution_count": null,
   "metadata": {
    "collapsed": true
   },
   "outputs": [],
   "source": []
  },
  {
   "cell_type": "code",
   "execution_count": null,
   "metadata": {
    "collapsed": true
   },
   "outputs": [],
   "source": []
  },
  {
   "cell_type": "code",
   "execution_count": null,
   "metadata": {
    "collapsed": true
   },
   "outputs": [],
   "source": []
  },
  {
   "cell_type": "markdown",
   "metadata": {},
   "source": [
    "## 3. Data Merging\n",
    "\n",
    "Use the pandas merge function to combine the information in the 3 dataframes to answer the following questions:\n",
    "\n",
    "1. Are there more Men or Women employees?\n",
    "- How is gender distributed across departments?\n",
    "- Who is sending more emails? Men or Women?\n",
    "- What's the average number of emails sent by each gender?\n",
    "- Are there more Juniors or Seniors?\n",
    "- Who is sending more emails? Juniors or Seniors?\n",
    "- Which department is sending more emails? How does that relate with the number of employees in the department?\n",
    "- Who are the top 3 senders of emails? (people who sent out the most emails)"
   ]
  },
  {
   "cell_type": "code",
   "execution_count": null,
   "metadata": {
    "collapsed": true
   },
   "outputs": [],
   "source": []
  },
  {
   "cell_type": "code",
   "execution_count": null,
   "metadata": {
    "collapsed": true
   },
   "outputs": [],
   "source": []
  },
  {
   "cell_type": "code",
   "execution_count": null,
   "metadata": {
    "collapsed": true
   },
   "outputs": [],
   "source": []
  },
  {
   "cell_type": "code",
   "execution_count": null,
   "metadata": {
    "collapsed": true
   },
   "outputs": [],
   "source": []
  },
  {
   "cell_type": "code",
   "execution_count": null,
   "metadata": {
    "collapsed": true
   },
   "outputs": [],
   "source": []
  }
 ],
 "metadata": {
  "kernelspec": {
   "display_name": "Python 3",
   "language": "python",
   "name": "python3"
  },
  "language_info": {
   "codemirror_mode": {
    "name": "ipython",
    "version": 3
   },
   "file_extension": ".py",
   "mimetype": "text/x-python",
   "name": "python",
   "nbconvert_exporter": "python",
   "pygments_lexer": "ipython3",
   "version": "3.6.0"
  }
 },
 "nbformat": 4,
 "nbformat_minor": 0
}
